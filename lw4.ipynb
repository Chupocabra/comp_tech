{
  "nbformat": 4,
  "nbformat_minor": 0,
  "metadata": {
    "colab": {
      "name": "lw4.ipynb",
      "provenance": [],
      "collapsed_sections": [],
      "include_colab_link": true
    },
    "kernelspec": {
      "name": "python3",
      "display_name": "Python 3"
    },
    "language_info": {
      "name": "python"
    }
  },
  "cells": [
    {
      "cell_type": "markdown",
      "metadata": {
        "id": "view-in-github",
        "colab_type": "text"
      },
      "source": [
        "<a href=\"https://colab.research.google.com/github/Chupocabra/comp_tech/blob/main/lw4.ipynb\" target=\"_parent\"><img src=\"https://colab.research.google.com/assets/colab-badge.svg\" alt=\"Open In Colab\"/></a>"
      ]
    },
    {
      "cell_type": "code",
      "metadata": {
        "id": "Z3kMxLAgVo5X"
      },
      "source": [
        "%load_ext rpy2.ipython"
      ],
      "execution_count": 1,
      "outputs": []
    },
    {
      "cell_type": "markdown",
      "metadata": {
        "id": "kpBZALtWWPsp"
      },
      "source": [
        "Punkt one"
      ]
    },
    {
      "cell_type": "code",
      "metadata": {
        "colab": {
          "base_uri": "https://localhost:8080/"
        },
        "id": "xXPqQw-AWRnJ",
        "outputId": "cf4cec17-270d-421c-a6f2-d9a3f84c0586"
      },
      "source": [
        "%%R\n",
        "x1 = sample(1:200, 143, replace=TRUE, prob=NULL)\n",
        "x2 = sample(1:1000, 143, replace=TRUE, prob=NULL)\n",
        "x3 = sample(200:300, 143, replace=TRUE, prob=NULL)\n",
        "x4 = sample(4:14, 143, replace=TRUE, prob=NULL)\n",
        "x5 = sample(300:600, 143, replace=TRUE, prob=NULL)\n",
        "x6 = sample(100:1000, 143, replace=TRUE, prob=NULL)\n",
        "x7 = sample(600:800, 143, replace=TRUE, prob=NULL)\n",
        "data = data.frame(x1, x2, x3, x4, x5, x6, x7)\n",
        "data"
      ],
      "execution_count": 98,
      "outputs": [
        {
          "output_type": "stream",
          "name": "stdout",
          "text": [
            "     x1  x2  x3 x4  x5  x6  x7\n",
            "1   133 992 268  7 526 350 616\n",
            "2    74 808 293  4 315 779 670\n",
            "3    74 743 204 11 484 107 616\n",
            "4    34 751 228 10 464 415 741\n",
            "5    77 262 251  7 390 501 642\n",
            "6   127  30 291 14 352 234 680\n",
            "7    68 716 250  5 448 467 727\n",
            "8   197 295 248  7 491 801 674\n",
            "9    40 649 256 14 411 611 706\n",
            "10   30  57 250 12 451 917 658\n",
            "11   50 766 292  9 384 287 744\n",
            "12   23 528 211  7 562 923 800\n",
            "13  192 965 233 14 583 507 794\n",
            "14  189 696 294  5 592 182 774\n",
            "15  159 622 267  9 549 261 684\n",
            "16   80  12 271  7 418 496 632\n",
            "17   39 414 262  5 594 746 666\n",
            "18  180 652 275 14 312 378 778\n",
            "19   93 899 277 14 450 698 657\n",
            "20   26 763 249  7 552 699 775\n",
            "21   20  90 205 12 476 338 650\n",
            "22  161 179 263 11 427 423 654\n",
            "23  135 222 285 14 478 399 750\n",
            "24  125 591 233  9 458 987 800\n",
            "25  123 607 246 14 380 949 651\n",
            "26  200 685 252  5 397 241 748\n",
            "27    6 831 219  5 520 210 800\n",
            "28   90 665 247 11 542 295 784\n",
            "29   21 258 262 12 377 400 697\n",
            "30    9 780 232  5 536 933 641\n",
            "31   73  94 261 12 337 682 727\n",
            "32   21 215 276 10 412 140 607\n",
            "33  132 475 299  8 321 282 651\n",
            "34  196  90 252  4 352 781 790\n",
            "35   58  52 202  4 404 662 657\n",
            "36  169 336 203  8 491 796 665\n",
            "37    5 525 216  6 357 490 680\n",
            "38   40  45 204 12 506 193 735\n",
            "39   27 596 296  7 458 912 672\n",
            "40   30 458 244 14 592 932 793\n",
            "41  114 542 205 14 420 290 609\n",
            "42   20 994 243  8 454 316 725\n",
            "43  156 442 208 12 479 410 790\n",
            "44    9  15 213 10 391 778 776\n",
            "45  169 986 212 13 574 494 603\n",
            "46   75 591 213  8 467 765 764\n",
            "47   65 317 235  5 508 818 717\n",
            "48    9 133 295  4 321 284 642\n",
            "49  104 933 287 14 500 397 666\n",
            "50   94 652 209  5 358 953 751\n",
            "51  111 347 228  5 407 424 682\n",
            "52    1 888 286 12 304 375 738\n",
            "53   60 495 200 12 350 820 761\n",
            "54   30 717 276  6 319 465 776\n",
            "55   38 694 261 13 544 966 687\n",
            "56   25  21 204 12 527 994 663\n",
            "57  176 703 271 13 363 721 671\n",
            "58  194 336 274 12 586 541 619\n",
            "59   75 365 221  7 488 233 702\n",
            "60  160 771 280 14 458 853 785\n",
            "61  116 112 217  8 337 278 748\n",
            "62  162  25 260  8 390 468 711\n",
            "63  114 670 236  5 571 779 603\n",
            "64   97 663 216  9 386 816 739\n",
            "65   57 809 289  9 598 805 707\n",
            "66   18 130 287  7 503 478 734\n",
            "67   90   2 226  9 553 940 644\n",
            "68   44 623 265  6 331 816 723\n",
            "69   99 523 241 13 581 153 768\n",
            "70   12 456 260 14 445 694 754\n",
            "71  113 745 223  5 340 418 646\n",
            "72   13 407 267  9 401 595 657\n",
            "73  179 936 221 13 509 659 799\n",
            "74  117 782 208  9 478 685 737\n",
            "75  101 609 256  8 317 702 735\n",
            "76   42  83 257  4 343 255 672\n",
            "77  147 931 300  4 328 393 660\n",
            "78   72 237 289 10 376 130 611\n",
            "79   89 156 234 11 355 214 674\n",
            "80   73 696 230 13 389 653 694\n",
            "81  120 309 220 14 318 734 615\n",
            "82  129 165 286  5 364 298 650\n",
            "83  121 398 215  6 540 554 674\n",
            "84  164 122 218 13 396 914 720\n",
            "85   52 351 249 10 565 122 660\n",
            "86   26 421 281 10 444 449 609\n",
            "87  110 591 262 14 301 886 632\n",
            "88   18 202 208  7 584 845 686\n",
            "89   11 969 267 13 363 830 615\n",
            "90  127  84 217  6 341 836 703\n",
            "91  165 435 257 12 540 832 722\n",
            "92  118 124 234 10 386 465 726\n",
            "93  126  85 212  5 318 225 637\n",
            "94   95 616 206  4 350 414 605\n",
            "95   99 414 285 11 322 394 719\n",
            "96  100 186 215  4 306 364 699\n",
            "97   61 426 247 14 418 574 697\n",
            "98   40 209 298  6 503 682 662\n",
            "99  145 891 294 14 316 804 621\n",
            "100 167 594 274 14 476 429 709\n",
            "101 128 422 227 10 343 944 704\n",
            "102 155 207 284  4 355 414 640\n",
            "103 156 781 246 10 348 933 655\n",
            "104  77 926 216 12 347 438 637\n",
            "105 109 883 268 12 342 718 737\n",
            "106 144 451 202  5 390 615 689\n",
            "107   8 278 224 13 319 371 678\n",
            "108 162 693 297 13 392 940 715\n",
            "109   8 751 293  6 501 149 694\n",
            "110  55 893 282 12 599 755 755\n",
            "111 190   7 281 13 524 905 788\n",
            "112  12 670 211 11 505 487 783\n",
            "113  34 830 288 12 414 385 623\n",
            "114  12  96 244  4 484 740 656\n",
            "115  99 360 275 11 526 357 722\n",
            "116 141 356 214 14 391 695 799\n",
            "117  41 201 272 13 455 992 666\n",
            "118 190 693 280 11 592 584 662\n",
            "119 119 739 259 13 416 216 706\n",
            "120 114  13 256 10 536 800 800\n",
            "121 189 610 289  5 349 726 624\n",
            "122  51 986 229 10 505 949 780\n",
            "123 114 499 224  8 362 707 665\n",
            "124 116 104 291 14 538 812 772\n",
            "125  30 461 222  5 531 142 692\n",
            "126 194 605 278 12 413 253 696\n",
            "127 185  13 238 11 514 712 790\n",
            "128 120 675 254 14 570 380 747\n",
            "129  15 596 284 10 566 531 796\n",
            "130 138 246 271  9 467 351 642\n",
            "131 174 885 234 14 582 615 666\n",
            "132 180 776 270 11 439 253 740\n",
            "133  13 889 261 13 433 611 717\n",
            "134  95 174 202 13 484 682 611\n",
            "135 128 866 208 11 398 594 762\n",
            "136 120 283 217 12 441 627 782\n",
            "137 170 460 243 13 487 139 735\n",
            "138 200 901 292  4 457 347 616\n",
            "139 118 632 253 13 385 885 775\n",
            "140  85 708 238 13 452 799 611\n",
            "141  37 447 230 11 518 596 749\n",
            "142 146  65 221  5 352 610 661\n",
            "143 152  80 271 11 311 246 626\n"
          ]
        }
      ]
    },
    {
      "cell_type": "markdown",
      "metadata": {
        "id": "bZSj6Ry9X0wU"
      },
      "source": [
        "пропусков 11%"
      ]
    },
    {
      "cell_type": "code",
      "metadata": {
        "id": "PEP2VqjxYoyg",
        "colab": {
          "base_uri": "https://localhost:8080/"
        },
        "outputId": "fe5d2006-2854-41c8-bc0b-e1b970fa4236"
      },
      "source": [
        "%%R\n",
        "install.packages(\"mice\")"
      ],
      "execution_count": 80,
      "outputs": [
        {
          "output_type": "stream",
          "name": "stderr",
          "text": [
            "R[write to console]: Installing package into ‘/usr/local/lib/R/site-library’\n",
            "(as ‘lib’ is unspecified)\n",
            "\n",
            "R[write to console]: trying URL 'https://cran.rstudio.com/src/contrib/mice_3.13.0.tar.gz'\n",
            "\n",
            "R[write to console]: Content type 'application/x-gzip'\n",
            "R[write to console]:  length 574057 bytes (560 KB)\n",
            "\n",
            "R[write to console]: =\n",
            "R[write to console]: =\n",
            "R[write to console]: =\n",
            "R[write to console]: =\n",
            "R[write to console]: =\n",
            "R[write to console]: =\n",
            "R[write to console]: =\n",
            "R[write to console]: =\n",
            "R[write to console]: =\n",
            "R[write to console]: =\n",
            "R[write to console]: =\n",
            "R[write to console]: =\n",
            "R[write to console]: =\n",
            "R[write to console]: =\n",
            "R[write to console]: =\n",
            "R[write to console]: =\n",
            "R[write to console]: =\n",
            "R[write to console]: =\n",
            "R[write to console]: =\n",
            "R[write to console]: =\n",
            "R[write to console]: =\n",
            "R[write to console]: =\n",
            "R[write to console]: =\n",
            "R[write to console]: =\n",
            "R[write to console]: =\n",
            "R[write to console]: =\n",
            "R[write to console]: =\n",
            "R[write to console]: =\n",
            "R[write to console]: =\n",
            "R[write to console]: =\n",
            "R[write to console]: =\n",
            "R[write to console]: =\n",
            "R[write to console]: =\n",
            "R[write to console]: =\n",
            "R[write to console]: =\n",
            "R[write to console]: =\n",
            "R[write to console]: =\n",
            "R[write to console]: =\n",
            "R[write to console]: =\n",
            "R[write to console]: =\n",
            "R[write to console]: =\n",
            "R[write to console]: =\n",
            "R[write to console]: =\n",
            "R[write to console]: =\n",
            "R[write to console]: =\n",
            "R[write to console]: =\n",
            "R[write to console]: =\n",
            "R[write to console]: =\n",
            "R[write to console]: =\n",
            "R[write to console]: =\n",
            "R[write to console]: \n",
            "\n",
            "R[write to console]: downloaded 560 KB\n",
            "\n",
            "\n",
            "R[write to console]: \n",
            "\n",
            "R[write to console]: \n",
            "R[write to console]: The downloaded source packages are in\n",
            "\t‘/tmp/RtmppZuFsg/downloaded_packages’\n",
            "R[write to console]: \n",
            "R[write to console]: \n",
            "\n",
            "R[write to console]: Installing package into ‘/usr/local/lib/R/site-library’\n",
            "(as ‘lib’ is unspecified)\n",
            "\n"
          ]
        }
      ]
    },
    {
      "cell_type": "code",
      "metadata": {
        "colab": {
          "base_uri": "https://localhost:8080/"
        },
        "id": "qlc9hhTlXcSL",
        "outputId": "f005497f-4020-4a34-9759-9f00c5fb231e"
      },
      "source": [
        "%%R\n",
        "ndata=data\n",
        "ndata[sample(1:nrow(ndata), 15), \"x1\"] <- NA\n",
        "ndata[sample(1:nrow(ndata), 10), \"x2\"] <- NA\n",
        "ndata[sample(1:nrow(ndata), 20), \"x3\"] <- NA\n",
        "ndata[sample(1:nrow(ndata), 5), \"x4\"] <- NA\n",
        "ndata[sample(1:nrow(ndata), 17), \"x5\"] <- NA\n",
        "ndata[sample(1:nrow(ndata), 13), \"x6\"] <- NA\n",
        "ndata[sample(1:nrow(ndata), 25), \"x7\"] <- NA\n",
        "ndata"
      ],
      "execution_count": 99,
      "outputs": [
        {
          "output_type": "stream",
          "name": "stdout",
          "text": [
            "     x1  x2  x3 x4  x5  x6  x7\n",
            "1   133 992 268  7 526 350 616\n",
            "2    74 808 293  4 315 779 670\n",
            "3    NA  NA  NA 11 484 107 616\n",
            "4    34 751 228 10 464 415 741\n",
            "5    NA 262  NA  7 390 501 642\n",
            "6    NA  30 291 14 352 234 680\n",
            "7    68 716 250  5 448 467 727\n",
            "8   197 295 248  7 491 801  NA\n",
            "9    40 649 256 14 411 611  NA\n",
            "10   30  57  NA 12  NA 917  NA\n",
            "11   50 766 292 NA 384 287 744\n",
            "12   23 528 211  7 562 923 800\n",
            "13  192 965 233 14 583 507 794\n",
            "14  189  NA 294  5 592 182  NA\n",
            "15  159 622 267  9  NA 261 684\n",
            "16   80  12 271  7 418  NA  NA\n",
            "17   39 414 262  5 594 746 666\n",
            "18  180 652  NA 14 312 378  NA\n",
            "19   93 899 277 14 450 698  NA\n",
            "20   26 763 249  7 552 699 775\n",
            "21   20  90 205 12 476 338 650\n",
            "22  161 179 263 11 427  NA 654\n",
            "23  135 222 285 14  NA 399 750\n",
            "24  125 591 233  9 458 987 800\n",
            "25  123 607 246 14 380 949 651\n",
            "26  200 685 252  5 397  NA 748\n",
            "27    6 831  NA  5 520  NA 800\n",
            "28   90 665 247 11 542 295 784\n",
            "29   21 258 262 12 377 400 697\n",
            "30    9 780 232  5 536 933 641\n",
            "31   73  94 261 12  NA 682 727\n",
            "32   21 215 276 10  NA 140  NA\n",
            "33  132 475 299  8 321 282 651\n",
            "34  196  90 252  4 352 781 790\n",
            "35   58  52  NA  4 404  NA 657\n",
            "36  169 336 203  8 491  NA 665\n",
            "37    5 525 216  6 357 490  NA\n",
            "38   40  45 204 12 506 193 735\n",
            "39   27 596 296  7 458 912 672\n",
            "40   30  NA 244 14 592 932 793\n",
            "41  114 542  NA 14 420 290 609\n",
            "42   20 994  NA  8 454 316 725\n",
            "43  156 442 208 12 479 410  NA\n",
            "44    9  15  NA 10 391 778 776\n",
            "45  169 986 212 13 574 494 603\n",
            "46   NA 591 213  8 467 765 764\n",
            "47   NA 317  NA  5  NA 818 717\n",
            "48    9 133 295  4 321  NA 642\n",
            "49  104 933 287 NA  NA 397  NA\n",
            "50   94 652 209  5 358 953 751\n",
            "51  111 347 228  5 407 424 682\n",
            "52    1 888  NA 12 304 375 738\n",
            "53   60 495 200 12 350 820 761\n",
            "54   30 717 276  6 319 465  NA\n",
            "55   38 694 261 13 544 966 687\n",
            "56   NA  21 204 12 527 994 663\n",
            "57  176 703 271 13 363 721 671\n",
            "58  194 336  NA 12 586 541 619\n",
            "59   75 365 221  7 488 233 702\n",
            "60  160 771 280 14 458  NA 785\n",
            "61  116 112 217  8 337 278 748\n",
            "62  162  25 260  8 390 468 711\n",
            "63  114  NA 236  5 571 779 603\n",
            "64   NA 663 216  9 386 816 739\n",
            "65   57 809 289  9  NA 805 707\n",
            "66   18 130 287  7 503 478 734\n",
            "67   90   2 226  9 553 940 644\n",
            "68   44 623 265  6 331 816 723\n",
            "69   99 523 241 13 581 153  NA\n",
            "70   12 456 260 14 445 694 754\n",
            "71  113 745 223  5  NA 418 646\n",
            "72   13 407  NA  9 401 595 657\n",
            "73  179 936 221 13 509 659 799\n",
            "74  117 782 208  9 478  NA 737\n",
            "75  101 609 256  8 317 702  NA\n",
            "76   42  83 257  4 343 255 672\n",
            "77  147 931 300  4 328 393 660\n",
            "78   72 237 289 10 376  NA  NA\n",
            "79   89 156 234 11 355 214 674\n",
            "80   73 696 230 13 389 653 694\n",
            "81   NA 309 220 14 318 734 615\n",
            "82  129 165 286  5 364  NA 650\n",
            "83   NA 398  NA  6 540 554 674\n",
            "84  164 122 218 13 396 914 720\n",
            "85   52 351 249 10 565 122 660\n",
            "86   26 421 281 10 444 449 609\n",
            "87  110 591 262 14 301 886 632\n",
            "88   18 202  NA  7 584 845 686\n",
            "89   11 969 267 13 363 830 615\n",
            "90  127  84 217  6 341 836  NA\n",
            "91  165 435 257 12 540 832 722\n",
            "92   NA 124 234 10 386 465 726\n",
            "93  126  85 212  5 318 225 637\n",
            "94   95  NA 206  4 350 414 605\n",
            "95   99 414 285 11 322 394  NA\n",
            "96   NA 186 215  4 306 364 699\n",
            "97   61 426 247 14 418 574 697\n",
            "98   40 209 298  6 503 682 662\n",
            "99  145 891 294 14 316  NA  NA\n",
            "100 167 594 274 14 476 429 709\n",
            "101 128 422 227 NA 343  NA 704\n",
            "102 155 207 284  4  NA 414  NA\n",
            "103 156 781  NA 10  NA 933 655\n",
            "104  77 926  NA 12 347 438 637\n",
            "105  NA 883 268 NA  NA 718 737\n",
            "106 144 451 202  5 390 615 689\n",
            "107   8 278 224 13 319 371 678\n",
            "108 162 693 297 13 392 940  NA\n",
            "109   8 751  NA  6 501 149 694\n",
            "110  55  NA 282 12 599 755  NA\n",
            "111  NA  NA 281 13 524 905 788\n",
            "112  12 670 211 11 505 487 783\n",
            "113  34 830 288 12 414 385 623\n",
            "114  12  96 244  4  NA 740  NA\n",
            "115  99 360 275 11 526 357 722\n",
            "116 141 356  NA 14 391 695 799\n",
            "117  41 201 272 13 455 992 666\n",
            "118  NA 693  NA 11 592 584 662\n",
            "119 119  NA 259 13  NA 216 706\n",
            "120 114  13 256 10  NA 800 800\n",
            "121 189 610 289  5 349 726  NA\n",
            "122  51 986 229 10 505 949 780\n",
            "123 114 499 224  8 362 707 665\n",
            "124 116 104 291 14 538 812  NA\n",
            "125  30 461 222  5 531 142 692\n",
            "126 194 605 278 12 413 253 696\n",
            "127 185  13 238 11 514 712 790\n",
            "128 120  NA 254 14 570 380 747\n",
            "129  15 596 284 10  NA 531 796\n",
            "130 138 246 271  9 467 351 642\n",
            "131  NA 885 234 14 582 615 666\n",
            "132 180 776 270 11 439 253 740\n",
            "133  13 889 261 13 433 611 717\n",
            "134  95 174 202 13 484 682 611\n",
            "135 128  NA 208 11 398 594  NA\n",
            "136 120 283 217 12 441 627 782\n",
            "137 170 460 243 13 487 139 735\n",
            "138 200 901 292  4 457 347 616\n",
            "139 118 632 253 13 385 885 775\n",
            "140  85 708 238 13 452 799 611\n",
            "141  37 447 230 NA  NA 596 749\n",
            "142 146  65 221  5 352 610 661\n",
            "143 152  80 271 11 311 246 626\n"
          ]
        }
      ]
    },
    {
      "cell_type": "code",
      "metadata": {
        "colab": {
          "base_uri": "https://localhost:8080/"
        },
        "id": "lFy8WUMtkkBy",
        "outputId": "051420e2-b4ea-4fae-dd8d-655a1968bec8"
      },
      "source": [
        "%%R\n",
        "summary(ndata)"
      ],
      "execution_count": 100,
      "outputs": [
        {
          "output_type": "stream",
          "name": "stdout",
          "text": [
            "       x1               x2              x3              x4        \n",
            " Min.   :  1.00   Min.   :  2.0   Min.   :200.0   Min.   : 4.000  \n",
            " 1st Qu.: 37.75   1st Qu.:207.0   1st Qu.:224.0   1st Qu.: 6.250  \n",
            " Median : 97.00   Median :461.0   Median :253.0   Median :10.000  \n",
            " Mean   : 93.92   Mean   :476.6   Mean   :250.9   Mean   : 9.601  \n",
            " 3rd Qu.:144.25   3rd Qu.:708.0   3rd Qu.:276.0   3rd Qu.:13.000  \n",
            " Max.   :200.00   Max.   :994.0   Max.   :300.0   Max.   :14.000  \n",
            " NA's   :15       NA's   :10      NA's   :20      NA's   :5       \n",
            "       x5              x6              x7       \n",
            " Min.   :301.0   Min.   :107.0   Min.   :603.0  \n",
            " 1st Qu.:362.2   1st Qu.:375.8   1st Qu.:655.5  \n",
            " Median :436.0   Median :589.0   Median :695.0  \n",
            " Mean   :438.4   Mean   :569.7   Mean   :699.8  \n",
            " 3rd Qu.:505.8   3rd Qu.:780.5   3rd Qu.:743.2  \n",
            " Max.   :599.0   Max.   :994.0   Max.   :800.0  \n",
            " NA's   :17      NA's   :13      NA's   :25     \n"
          ]
        }
      ]
    },
    {
      "cell_type": "code",
      "metadata": {
        "id": "gyW8AX2wYeRm",
        "colab": {
          "base_uri": "https://localhost:8080/",
          "height": 939
        },
        "outputId": "1869a47d-43e6-4077-e162-061c4fd82b81"
      },
      "source": [
        "%%R\n",
        "library(mice)\n",
        "md.pattern(ndata)"
      ],
      "execution_count": 101,
      "outputs": [
        {
          "output_type": "stream",
          "name": "stdout",
          "text": [
            "   x4 x2 x6 x1 x5 x3 x7    \n",
            "68  1  1  1  1  1  1  1   0\n",
            "13  1  1  1  1  1  1  0   1\n",
            "10  1  1  1  1  1  0  1   1\n",
            "1   1  1  1  1  1  0  0   2\n",
            "7   1  1  1  1  0  1  1   1\n",
            "3   1  1  1  1  0  1  0   2\n",
            "1   1  1  1  1  0  0  1   2\n",
            "1   1  1  1  1  0  0  0   3\n",
            "8   1  1  1  0  1  1  1   1\n",
            "3   1  1  1  0  1  0  1   2\n",
            "1   1  1  1  0  0  0  1   3\n",
            "7   1  1  0  1  1  1  1   1\n",
            "3   1  1  0  1  1  1  0   2\n",
            "2   1  1  0  1  1  0  1   2\n",
            "4   1  0  1  1  1  1  1   1\n",
            "3   1  0  1  1  1  1  0   2\n",
            "1   1  0  1  1  0  1  1   2\n",
            "1   1  0  1  0  1  1  1   2\n",
            "1   1  0  1  0  1  0  1   3\n",
            "1   0  1  1  1  1  1  1   1\n",
            "1   0  1  1  1  0  1  1   2\n",
            "1   0  1  1  1  0  1  0   3\n",
            "1   0  1  1  0  0  1  1   3\n",
            "1   0  1  0  1  1  1  1   2\n",
            "    5 10 13 15 17 20 25 105\n"
          ]
        },
        {
          "output_type": "display_data",
          "data": {
            "image/png": "[encoded data removed]"
          },
          "metadata": {}
        }
      ]
    },
    {
      "cell_type": "markdown",
      "metadata": {
        "id": "nA6cunbTahTw"
      },
      "source": [
        "x4 -- меньше всего пропусков; predict method"
      ]
    },
    {
      "cell_type": "markdown",
      "metadata": {
        "id": "lxOoi-TyjlSc"
      },
      "source": [
        "x4, x2, x6, x1, x5, x3, x7"
      ]
    },
    {
      "cell_type": "code",
      "metadata": {
        "id": "kQtrpn_3hIUs",
        "colab": {
          "base_uri": "https://localhost:8080/"
        },
        "outputId": "e8829d43-6d7d-4a7c-f40c-158f65d59ba3"
      },
      "source": [
        "%%R\n",
        "mass = c()\n",
        "for(i in 1:7)\n",
        "  mass = unique(c(mass, as.numeric(summary(ndata[,i])[7])))\n",
        "mass"
      ],
      "execution_count": 102,
      "outputs": [
        {
          "output_type": "stream",
          "name": "stdout",
          "text": [
            "[1] 15 10 20  5 17 13 25\n"
          ]
        }
      ]
    },
    {
      "cell_type": "code",
      "metadata": {
        "colab": {
          "base_uri": "https://localhost:8080/"
        },
        "id": "-vVas3R_mMZd",
        "outputId": "453de582-fe45-486e-ef45-96a1f9080ab2"
      },
      "source": [
        "%%R\n",
        "sort(mass)"
      ],
      "execution_count": 103,
      "outputs": [
        {
          "output_type": "stream",
          "name": "stdout",
          "text": [
            "[1]  5 10 13 15 17 20 25\n"
          ]
        }
      ]
    },
    {
      "cell_type": "markdown",
      "metadata": {
        "id": "DiVtvfsRKWc8"
      },
      "source": [
        "4, 2, 6, 1, 5, 3, 7"
      ]
    },
    {
      "cell_type": "code",
      "metadata": {
        "colab": {
          "base_uri": "https://localhost:8080/"
        },
        "id": "-8L3pd74JVHa",
        "outputId": "e85d3dd8-2f4c-4c24-d967-ba5cda8bb60e"
      },
      "source": [
        "%%R\n",
        "nas_mass=c()\n",
        "for(i in 1:143)\n",
        "  if(is.na(ndata$x4[i])) nas_mass=c(nas_mass, i)\n",
        "nas_mass"
      ],
      "execution_count": 126,
      "outputs": [
        {
          "output_type": "stream",
          "name": "stdout",
          "text": [
            "[1]  11  49 101 105 141\n"
          ]
        }
      ]
    },
    {
      "cell_type": "markdown",
      "metadata": {
        "id": "KLZGGR7IKf-g"
      },
      "source": [
        "Строки, которые будут обучающими"
      ]
    },
    {
      "cell_type": "code",
      "metadata": {
        "id": "Yqu-Y5qDeuWR",
        "colab": {
          "base_uri": "https://localhost:8080/"
        },
        "outputId": "90ccdeb1-5dde-431a-dac3-038c5e26a3c8"
      },
      "source": [
        "%%R\n",
        "x4data=ndata\n",
        "my_linear_model <- lm(x1~x7, data=x4data)\n",
        "for(i in 1:143)\n",
        "    if(is.na(x4data$x1[i])) x4data$x1[i]=trunc(mean(x4data$x1, na.rm=TRUE))\n",
        "for(i in 1:143)\n",
        "    if(is.na(x4data$x2[i])) x4data$x2[i]=trunc(mean(x4data$x2, na.rm=TRUE))\n",
        "for(i in 1:143)\n",
        "    if(is.na(x4data$x3[i])) x4data$x3[i]=trunc(mean(x4data$x3, na.rm=TRUE))\n",
        "for(i in 1:143)\n",
        "    if(is.na(x4data$x5[i])) x4data$x5[i]=trunc(mean(x4data$x5, na.rm=TRUE))\n",
        "for(i in 1:143)\n",
        "    if(is.na(x4data$x6[i])) x4data$x6[i]=trunc(mean(x4data$x6, na.rm=TRUE))\n",
        "for(i in 1:143)\n",
        "    if(is.na(x4data$x7[i])) x4data$x7[i]=trunc(mean(x4data$x7, na.rm=TRUE))\n",
        "\n",
        "predict(my_linear_model, newdata=x4data, interval = 'confidence')"
      ],
      "execution_count": 149,
      "outputs": [
        {
          "output_type": "stream",
          "name": "stdout",
          "text": [
            "         fit      lwr      upr\n",
            "1   94.94712 74.20286 115.6914\n",
            "2   92.83041 79.50923 106.1516\n",
            "3   94.94712 74.20286 115.6914\n",
            "4   90.04734 75.75707 104.3376\n",
            "5   93.92796 77.22154 110.6344\n",
            "6   92.43843 79.92717 104.9497\n",
            "7   90.59612 77.68740 103.5048\n",
            "8   91.69367 79.90036 103.4870\n",
            "9   91.69367 79.90036 103.4870\n",
            "10  91.69367 79.90036 103.4870\n",
            "11  89.92975 75.28979 104.5697\n",
            "12  87.73465 64.56338 110.9059\n",
            "13  87.96984 65.82932 110.1103\n",
            "14  91.69367 79.90036 103.4870\n",
            "15  92.28164 80.01667 104.5466\n",
            "16  91.69367 79.90036 103.4870\n",
            "17  92.98721 79.27263 106.7018\n",
            "18  91.69367 79.90036 103.4870\n",
            "19  91.69367 79.90036 103.4870\n",
            "20  88.71460 69.70068 107.7285\n",
            "21  93.61438 78.00716 109.2216\n",
            "22  93.45759 78.36559 108.5496\n",
            "23  89.69456 74.30796 105.0812\n",
            "24  87.73465 64.56338 110.9059\n",
            "25  93.57518 78.09908 109.0513\n",
            "26  89.77295 74.64184 104.9041\n",
            "27  87.73465 64.56338 110.9059\n",
            "28  88.36182 67.89632 108.8273\n",
            "29  91.77206 79.95925 103.5849\n",
            "30  93.96716 77.11757 110.8168\n",
            "31  90.59612 77.68740 103.5048\n",
            "32  91.69367 79.90036 103.4870\n",
            "33  93.57518 78.09908 109.0513\n",
            "34  88.12663 66.66307 109.5902\n",
            "35  93.33999 78.61736 108.0626\n",
            "36  93.02641 79.20790 106.8449\n",
            "37  91.69367 79.90036 103.4870\n",
            "38  90.28253 76.63832 103.9267\n",
            "39  92.75202 79.61345 105.8906\n",
            "40  88.00903 66.03857 109.9795\n",
            "41  95.22151 73.30376 117.1393\n",
            "42  90.67451 77.92453 103.4245\n",
            "43  91.69367 79.90036 103.4870\n",
            "44  88.67540 69.50322 107.8476\n",
            "45  95.45670 72.51206 118.4013\n",
            "46  89.14578 71.81397 106.4776\n",
            "47  90.98810 78.76072 103.2155\n",
            "48  93.92796 77.22154 110.6344\n",
            "49  91.69367 79.90036 103.4870\n",
            "50  89.65536 74.13869 105.1720\n",
            "51  92.36004 79.97784 104.7422\n",
            "52  90.16494 76.20700 104.1229\n",
            "53  89.26338 72.36906 106.1577\n",
            "54  91.69367 79.90036 103.4870\n",
            "55  92.16405 80.05195 104.2761\n",
            "56  93.10480 79.07211 107.1375\n",
            "57  92.79122 79.56255 106.0199\n",
            "58  94.82952 74.57902 115.0800\n",
            "59  91.57607 79.78631 103.3658\n",
            "60  88.32262 67.69233 108.9529\n",
            "61  89.77295 74.64184 104.9041\n",
            "62  91.22329 79.26006 103.1865\n",
            "63  95.45670 72.51206 118.4013\n",
            "64  90.12574 76.05903 104.1924\n",
            "65  91.38008 79.52774 103.2324\n",
            "66  90.32173 76.77773 103.8657\n",
            "67  93.84957 77.42584 110.2733\n",
            "68  90.75291 78.15081 103.3550\n",
            "69  91.69367 79.90036 103.4870\n",
            "70  89.53776 73.62198 105.4536\n",
            "71  93.77117 77.62505 109.9173\n",
            "72  93.33999 78.61736 108.0626\n",
            "73  87.77385 64.77556 110.7721\n",
            "74  90.20413 76.35291 104.0554\n",
            "75  91.69367 79.90036 103.4870\n",
            "76  92.75202 79.61345 105.8906\n",
            "77  93.22240 78.85327 107.5915\n",
            "78  91.69367 79.90036 103.4870\n",
            "79  92.67362 79.70776 105.6395\n",
            "80  91.88966 80.02203 103.7573\n",
            "81  94.98632 74.07619 115.8964\n",
            "82  93.61438 78.00716 109.2216\n",
            "83  92.67362 79.70776 105.6395\n",
            "84  90.87050 78.46903 103.2720\n",
            "85  93.22240 78.85327 107.5915\n",
            "86  95.22151 73.30376 117.1393\n",
            "87  94.31995 76.13232 112.5076\n",
            "88  92.20324 80.04331 104.3632\n",
            "89  94.98632 74.07619 115.8964\n",
            "90  91.69367 79.90036 103.4870\n",
            "91  90.79211 78.25976 103.3245\n",
            "92  90.63531 77.80730 103.4633\n",
            "93  94.12396 76.69022 111.5577\n",
            "94  95.37830 72.77794 117.9787\n",
            "95  91.69367 79.90036 103.4870\n",
            "96  91.69367 79.90036 103.4870\n",
            "97  91.77206 79.95925 103.5849\n",
            "98  93.14400 79.00113 107.2869\n",
            "99  91.69367 79.90036 103.4870\n",
            "100 91.30168 79.40057 103.2028\n",
            "101 91.49768 79.69313 103.3022\n",
            "102 91.69367 79.90036 103.4870\n",
            "103 93.41839 78.45120 108.3856\n",
            "104 94.12396 76.69022 111.5577\n",
            "105 90.20413 76.35291 104.0554\n",
            "106 92.08565 80.05971 104.1116\n",
            "107 92.51683 79.86501 105.1686\n",
            "108 91.69367 79.90036 103.4870\n",
            "109 91.88966 80.02203 103.7573\n",
            "110 91.69367 79.90036 103.4870\n",
            "111 88.20503 67.07657 109.3335\n",
            "112 88.40102 68.09965 108.7024\n",
            "113 94.67273 75.07100 114.2745\n",
            "114 91.69367 79.90036 103.4870\n",
            "115 90.79211 78.25976 103.3245\n",
            "116 87.77385 64.77556 110.7721\n",
            "117 92.98721 79.27263 106.7018\n",
            "118 93.14400 79.00113 107.2869\n",
            "119 91.41928 79.58627 103.2523\n",
            "120 87.73465 64.56338 110.9059\n",
            "121 91.69367 79.90036 103.4870\n",
            "122 88.51861 68.70556 108.3317\n",
            "123 93.02641 79.20790 106.8449\n",
            "124 91.69367 79.90036 103.4870\n",
            "125 91.96805 80.04703 103.8891\n",
            "126 91.81126 79.98357 103.6390\n",
            "127 88.12663 66.66307 109.5902\n",
            "128 89.81215 74.80637 104.8179\n",
            "129 87.89144 65.40929 110.3736\n",
            "130 93.92796 77.22154 110.6344\n",
            "131 92.98721 79.27263 106.7018\n",
            "132 90.08654 75.90904 104.2640\n",
            "133 90.98810 78.76072 103.2155\n",
            "134 95.14311 73.56351 116.7227\n",
            "135 91.69367 79.90036 103.4870\n",
            "136 88.44021 68.30232 108.5781\n",
            "137 90.28253 76.63832 103.9267\n",
            "138 94.94712 74.20286 115.6914\n",
            "139 88.71460 69.70068 107.7285\n",
            "140 95.14311 73.56351 116.7227\n",
            "141 89.73376 74.47569 104.9918\n",
            "142 93.18320 78.92817 107.4382\n",
            "143 94.55514 75.43220 113.6781\n"
          ]
        }
      ]
    },
    {
      "cell_type": "code",
      "metadata": {
        "id": "iWwio9G6exHa"
      },
      "source": [
        "%%R\n",
        "my_linear_model <- lm(x1~x7, data=x4data)\n",
        "x=c(x4data$x7, x4data$x6, x4data$x5, x4data$x3, x4data$x2, x4data$x1)\n",
        "predict(my_linear_model, newdata=x4data)"
      ],
      "execution_count": null,
      "outputs": []
    },
    {
      "cell_type": "code",
      "metadata": {
        "colab": {
          "base_uri": "https://localhost:8080/"
        },
        "id": "MaMwGxvPdjvs",
        "outputId": "201f66ce-1e78-43f3-a7db-74ad35fe6af5"
      },
      "source": [
        "%%R\n",
        "summary(x4data)"
      ],
      "execution_count": 138,
      "outputs": [
        {
          "output_type": "stream",
          "name": "stdout",
          "text": [
            "       x1               x2              x3              x4        \n",
            " Min.   :  1.00   Min.   :  2.0   Min.   :200.0   Min.   : 4.000  \n",
            " 1st Qu.: 40.00   1st Qu.:218.5   1st Qu.:228.5   1st Qu.: 6.250  \n",
            " Median : 93.00   Median :476.0   Median :250.0   Median :10.000  \n",
            " Mean   : 93.83   Mean   :476.6   Mean   :250.8   Mean   : 9.601  \n",
            " 3rd Qu.:134.00   3rd Qu.:695.0   3rd Qu.:271.0   3rd Qu.:13.000  \n",
            " Max.   :200.00   Max.   :994.0   Max.   :300.0   Max.   :14.000  \n",
            "                                                  NA's   :5       \n",
            "       x5              x6              x7       \n",
            " Min.   :301.0   Min.   :107.0   Min.   :603.0  \n",
            " 1st Qu.:376.5   1st Qu.:389.0   1st Qu.:662.0  \n",
            " Median :438.0   Median :569.0   Median :699.0  \n",
            " Mean   :438.4   Mean   :569.6   Mean   :699.7  \n",
            " 3rd Qu.:502.0   3rd Qu.:771.5   3rd Qu.:736.0  \n",
            " Max.   :599.0   Max.   :994.0   Max.   :800.0  \n",
            "                                                \n"
          ]
        }
      ]
    },
    {
      "cell_type": "code",
      "metadata": {
        "colab": {
          "base_uri": "https://localhost:8080/"
        },
        "id": "Y1d4oAE2W4UX",
        "outputId": "8409fab9-be5a-4b64-8dcc-41c4da2aa1c5"
      },
      "source": [
        "%%R\n",
        "summary(data)"
      ],
      "execution_count": 97,
      "outputs": [
        {
          "output_type": "stream",
          "name": "stdout",
          "text": [
            "       x1              x2              x3              x4        \n",
            " Min.   :  2.0   Min.   :  2.0   Min.   :200.0   Min.   : 4.000  \n",
            " 1st Qu.: 47.5   1st Qu.:287.0   1st Qu.:226.0   1st Qu.: 6.000  \n",
            " Median :105.0   Median :543.0   Median :252.0   Median : 9.000  \n",
            " Mean   :104.4   Mean   :528.4   Mean   :251.7   Mean   : 8.972  \n",
            " 3rd Qu.:154.0   3rd Qu.:765.5   3rd Qu.:276.5   3rd Qu.:11.500  \n",
            " Max.   :200.0   Max.   :992.0   Max.   :300.0   Max.   :14.000  \n",
            "       x5              x6               x7       \n",
            " Min.   :300.0   Min.   : 112.0   Min.   :603.0  \n",
            " 1st Qu.:389.5   1st Qu.: 327.5   1st Qu.:653.5  \n",
            " Median :483.0   Median : 564.0   Median :700.0  \n",
            " Mean   :465.4   Mean   : 553.3   Mean   :698.7  \n",
            " 3rd Qu.:539.5   3rd Qu.: 792.0   3rd Qu.:738.5  \n",
            " Max.   :599.0   Max.   :1000.0   Max.   :800.0  \n"
          ]
        }
      ]
    },
    {
      "cell_type": "code",
      "metadata": {
        "colab": {
          "base_uri": "https://localhost:8080/"
        },
        "id": "wl-EUQuzLYOw",
        "outputId": "2d587f1f-8221-444f-bb8d-be817d5e4989"
      },
      "source": [
        "%%R\n",
        "require(mice)\n",
        "dataset2 <- mice(ndata)\n",
        "dataset2 <- complete(dataset2)\n",
        "summary(dataset2)"
      ],
      "execution_count": 105,
      "outputs": [
        {
          "output_type": "stream",
          "name": "stdout",
          "text": [
            "\n",
            " iter imp variable\n",
            "  1   1  x1  x2  x3  x4  x5  x6  x7\n",
            "  1   2  x1  x2  x3  x4  x5  x6  x7\n",
            "  1   3  x1  x2  x3  x4  x5  x6  x7\n",
            "  1   4  x1  x2  x3  x4  x5  x6  x7\n",
            "  1   5  x1  x2  x3  x4  x5  x6  x7\n",
            "  2   1  x1  x2  x3  x4  x5  x6  x7\n",
            "  2   2  x1  x2  x3  x4  x5  x6  x7\n",
            "  2   3  x1  x2  x3  x4  x5  x6  x7\n",
            "  2   4  x1  x2  x3  x4  x5  x6  x7\n",
            "  2   5  x1  x2  x3  x4  x5  x6  x7\n",
            "  3   1  x1  x2  x3  x4  x5  x6  x7\n",
            "  3   2  x1  x2  x3  x4  x5  x6  x7\n",
            "  3   3  x1  x2  x3  x4  x5  x6  x7\n",
            "  3   4  x1  x2  x3  x4  x5  x6  x7\n",
            "  3   5  x1  x2  x3  x4  x5  x6  x7\n",
            "  4   1  x1  x2  x3  x4  x5  x6  x7\n",
            "  4   2  x1  x2  x3  x4  x5  x6  x7\n",
            "  4   3  x1  x2  x3  x4  x5  x6  x7\n",
            "  4   4  x1  x2  x3  x4  x5  x6  x7\n",
            "  4   5  x1  x2  x3  x4  x5  x6  x7\n",
            "  5   1  x1  x2  x3  x4  x5  x6  x7\n",
            "  5   2  x1  x2  x3  x4  x5  x6  x7\n",
            "  5   3  x1  x2  x3  x4  x5  x6  x7\n",
            "  5   4  x1  x2  x3  x4  x5  x6  x7\n",
            "  5   5  x1  x2  x3  x4  x5  x6  x7\n",
            "       x1               x2              x3              x4        \n",
            " Min.   :  1.00   Min.   :  2.0   Min.   :200.0   Min.   : 4.000  \n",
            " 1st Qu.: 30.00   1st Qu.:201.5   1st Qu.:226.0   1st Qu.: 7.000  \n",
            " Median : 93.00   Median :460.0   Median :256.0   Median :10.000  \n",
            " Mean   : 89.63   Mean   :470.1   Mean   :252.1   Mean   : 9.671  \n",
            " 3rd Qu.:139.50   3rd Qu.:705.5   3rd Qu.:277.5   3rd Qu.:13.000  \n",
            " Max.   :200.00   Max.   :994.0   Max.   :300.0   Max.   :14.000  \n",
            "       x5              x6              x7       \n",
            " Min.   :301.0   Min.   :107.0   Min.   :603.0  \n",
            " 1st Qu.:356.0   1st Qu.:376.5   1st Qu.:660.5  \n",
            " Median :418.0   Median :596.0   Median :702.0  \n",
            " Mean   :434.5   Mean   :574.6   Mean   :705.5  \n",
            " 3rd Qu.:505.0   3rd Qu.:779.0   3rd Qu.:749.5  \n",
            " Max.   :599.0   Max.   :994.0   Max.   :800.0  \n"
          ]
        }
      ]
    },
    {
      "cell_type": "code",
      "metadata": {
        "colab": {
          "base_uri": "https://localhost:8080/"
        },
        "id": "-DX_dkonMxvX",
        "outputId": "65177940-d44b-46df-c49f-137526555987"
      },
      "source": [
        "%%R\n",
        "t.test(data, dataset2)"
      ],
      "execution_count": 106,
      "outputs": [
        {
          "output_type": "stream",
          "name": "stdout",
          "text": [
            "\n",
            "\tWelch Two Sample t-test\n",
            "\n",
            "data:  data and dataset2\n",
            "t = 0.1376, df = 2000, p-value = 0.8906\n",
            "alternative hypothesis: true difference in means is not equal to 0\n",
            "95 percent confidence interval:\n",
            " -22.87686  26.32940\n",
            "sample estimates:\n",
            "mean of x mean of y \n",
            " 364.0330  362.3067 \n",
            "\n"
          ]
        }
      ]
    }
  ]
}